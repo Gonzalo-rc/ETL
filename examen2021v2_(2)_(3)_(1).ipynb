{
  "nbformat": 4,
  "nbformat_minor": 0,
  "metadata": {
    "kernelspec": {
      "display_name": "Python 3",
      "language": "python",
      "name": "python3"
    },
    "language_info": {
      "codemirror_mode": {
        "name": "ipython",
        "version": 3
      },
      "file_extension": ".py",
      "mimetype": "text/x-python",
      "name": "python",
      "nbconvert_exporter": "python",
      "pygments_lexer": "ipython3",
      "version": "3.7.4"
    },
    "toc": {
      "base_numbering": 1,
      "nav_menu": {},
      "number_sections": true,
      "sideBar": true,
      "skip_h1_title": false,
      "title_cell": "Table of Contents",
      "title_sidebar": "Contents",
      "toc_cell": false,
      "toc_position": {},
      "toc_section_display": true,
      "toc_window_display": true
    },
    "colab": {
      "name": "examen2021v2_(2) (3) (1).ipynb",
      "provenance": [],
      "collapsed_sections": []
    }
  },
  "cells": [
    {
      "cell_type": "markdown",
      "metadata": {
        "id": "iNJRVT7XaB0x"
      },
      "source": [
        "# TAREA FINAL: Datos de vivienda\n",
        "\n",
        "<p> El negocio inmobiliario es uno de los motores de la economía de España, el carácter turístico de nuesta península hace que sean muchos los inversores extranjeros que se decidan por buscar una inversión de bajo riesgos en nuestras ciudades costeras o grandes urbes. \n",
        "Muchas de estas inversiones se hacen sobre grandes bolsas de inmuebles que deben ser analizados previamente para comprobar la rentabilidad del porfolio </p>\n",
        "\n",
        "<!-- <p> En este caso vamos a trabajar con una tabla que contienen información de distintos inmuebles repartidos por una zona específica, sus carácterísticas y su precio </p>  -->"
      ]
    },
    {
      "cell_type": "markdown",
      "metadata": {
        "id": "3nvYER-daB05"
      },
      "source": [
        "Todas las cuestiones se deben realizar sobre el conjunto de casos que representen viviendas ubicadas en zonas residenciales **(alta, media y baja densidad)**"
      ]
    },
    {
      "cell_type": "markdown",
      "metadata": {
        "id": "CMLvqN44aB06"
      },
      "source": [
        "**MUY IMPORTANTE:** En las otras prácticas he detectado colaboraciones involucrando varias personas y he sido flexible aunque a algunos os lo he mencionado en las correcciones, porque al final el trabajo de analista de datos es un trabajo colaborativo. Sin embargo, este trabajo es individual, así que cuidado con las colaboraciones."
      ]
    },
    {
      "cell_type": "markdown",
      "metadata": {
        "id": "VMLSQNQNaB07"
      },
      "source": [
        "Las variables de las que se compone el dataset son:"
      ]
    },
    {
      "cell_type": "markdown",
      "metadata": {
        "id": "kRgfCCBeaB07"
      },
      "source": [
        "|NOMBRE VARIABLE|DESCRIPTOR|VALORES|\n",
        "| --- | --- | --- |\n",
        "|Order|Variable de identificación|1 a 2930|\n",
        "|MS Zoning|Zona de ubicación de la vivienda|\"A rural, C comercial, FV residencial flotante, I industrial, RH residencial alta densidad, RL residencial baja densidad, RM residencial media densidad\"|\n",
        "|Lot Frontage|Longitud de la fachada en pies||\n",
        "|Lot Area|Superficie de la vivienda en pies cuadrados||\n",
        "|Land Contour|Contorno del terreno circundante|\"Lvl llano, Bnk Tipo bancal, HLS Ladera, Low Depresión\"|\n",
        "|Land Slope|Tipo de pendiente de la vivienda|\" Gtl pendiente suave, Mod pendiente moderada, Sev fuerte pendiente\"|\n",
        "|Overall Qual|Grado de calidad de materiales y acabado de la vivienda|De 1 (Muy pobre) a 10 (Excelente)|\n",
        "|Year Built|Año de construccion de la vivienda||\n",
        "|Year Remod/Add|Año de última reforma de la vivienda||\n",
        "|Mas Vnr Type|Tipo de revestimiento exterior|\" BrkCmn Ladrillo normal, BrkFace Ladrillo visto, CBlock Bloque de cemento, None Ninguna, Stone Piedra \"|\n",
        "|Exter Qual|Calidad de revestimiento exterior|\"Ex Excelente,Gd Bueno,TA Media,Fa Justo\"|\n",
        "|Bsmt Cond|Estado general del sótano|\"Ex Excelente, Gd Bueno, TA Media, Fa Justo, Po Pobre,Ss sin sótano\"|\n",
        "|Total Bsmt SF|Superficie del sótano en pies cuadrados|\n",
        "|Heating QC|Calidad de la calefacción|\"Ex Excelente,Gd Bueno,TA Media,Fa Justo,Po Pobre\"|\n",
        "|Central Air|Aire acondicionado centralizado|\"N No Y Sí\"|\n",
        "|Full Bath|Número de baños completo en planta||\n",
        "|Half Bath|Número de aseos en planta||\n",
        "|Bedroom AbvGr|Número de dormitorios en planta||\n",
        "|Kitchen AbvGr|Número de cocinas en planta||\n",
        "|Kitchen Qual|Calidad de cocinas|\"Ex Excelente,Gd Bueno,TA Media,Fa Justo,Po Pobre\"|\n",
        "|TotRms AbvGrd|Número total de habitaciones excluidos los cuartos de baño||\n",
        "|Garage Cars|Número de plazas de garaje||\n",
        "|Garage Area|Superficie del garaje|||\n",
        "|Garage Cond|Estado del garaje|\"Ex Excelente,Gd Bueno,TA Media,Fa Justo,Po Pobre,Sg sin garaje\"|\n",
        "|Pool Area|Superficie de la piscina en pies cuadrados|\n",
        "|Pool QC|Calidad de la piscina|\"Ex Excelente,Gd Bueno,TA Media,Fa Justo,Sp no hay piscina\"|\n",
        "|Mo Sold|mes de venta||\n",
        "|Yr Sold|año de venta||\n",
        "|SalePrice|precio de venta en dólares||"
      ]
    },
    {
      "cell_type": "markdown",
      "metadata": {
        "id": "tgbKNnIFaB09"
      },
      "source": [
        "Recomiendo al leer los datos, eliminar espacios de los nombres de las columnas, realiza un pequeño análisis inicial de los mismos. No olvides fijarte en los tipos de variables, que variables pueden tener tipos confundidos y corrige los. Sobre todo, trabaja con las fechas."
      ]
    },
    {
      "cell_type": "markdown",
      "metadata": {
        "id": "kPWUUt0iaB09"
      },
      "source": [
        "**NOTA:** Las tareas complementarias sirven para subir nota. El resto de preguntas valen igual y suman 10 puntos."
      ]
    },
    {
      "cell_type": "markdown",
      "metadata": {
        "id": "u-dMqr0uaB0-"
      },
      "source": [
        "## Inicializar y cargar el contexto spark"
      ]
    },
    {
      "cell_type": "code",
      "metadata": {
        "id": "M4jYRignaggp",
        "colab": {
          "base_uri": "https://localhost:8080/",
          "height": 286
        },
        "outputId": "0f315cd0-496e-4c57-ed20-ab5d5b50585b"
      },
      "source": [
        "!apt-get install openjdk-8-jdk-headless -qq > /dev/null\r\n",
        "!wget -q https://www-us.apache.org/dist/spark/spark-2.4.7/spark-2.4.7-bin-hadoop2.7.tgz\r\n",
        "!tar xf spark-2.4.7-bin-hadoop2.7.tgz #d\r\n",
        "!pip install -q findspark \r\n",
        "\r\n",
        "import os\r\n",
        "os.environ[\"JAVA_HOME\"] = \"/usr/lib/jvm/java-8-openjdk-amd64\"\r\n",
        "os.environ[\"SPARK_HOME\"] = \"/content/spark-2.4.7-bin-hadoop2.7\"\r\n",
        "\r\n",
        "import findspark\r\n",
        "findspark.init()\r\n",
        "from pyspark import SparkContext\r\n",
        "sc = SparkContext()\r\n",
        "from pyspark.sql import SparkSession\r\n",
        "spark = SparkSession.builder.master(\"local[*]\").getOrCreate()"
      ],
      "execution_count": null,
      "outputs": [
        {
          "output_type": "stream",
          "text": [
            "^C\n"
          ],
          "name": "stdout"
        },
        {
          "output_type": "error",
          "ename": "ValueError",
          "evalue": "ignored",
          "traceback": [
            "\u001b[0;31m---------------------------------------------------------------------------\u001b[0m",
            "\u001b[0;31mValueError\u001b[0m                                Traceback (most recent call last)",
            "\u001b[0;32m<ipython-input-450-24ce6d5e1f14>\u001b[0m in \u001b[0;36m<module>\u001b[0;34m()\u001b[0m\n\u001b[1;32m     11\u001b[0m \u001b[0mfindspark\u001b[0m\u001b[0;34m.\u001b[0m\u001b[0minit\u001b[0m\u001b[0;34m(\u001b[0m\u001b[0;34m)\u001b[0m\u001b[0;34m\u001b[0m\u001b[0;34m\u001b[0m\u001b[0m\n\u001b[1;32m     12\u001b[0m \u001b[0;32mfrom\u001b[0m \u001b[0mpyspark\u001b[0m \u001b[0;32mimport\u001b[0m \u001b[0mSparkContext\u001b[0m\u001b[0;34m\u001b[0m\u001b[0;34m\u001b[0m\u001b[0m\n\u001b[0;32m---> 13\u001b[0;31m \u001b[0msc\u001b[0m \u001b[0;34m=\u001b[0m \u001b[0mSparkContext\u001b[0m\u001b[0;34m(\u001b[0m\u001b[0;34m)\u001b[0m\u001b[0;34m\u001b[0m\u001b[0;34m\u001b[0m\u001b[0m\n\u001b[0m\u001b[1;32m     14\u001b[0m \u001b[0;32mfrom\u001b[0m \u001b[0mpyspark\u001b[0m\u001b[0;34m.\u001b[0m\u001b[0msql\u001b[0m \u001b[0;32mimport\u001b[0m \u001b[0mSparkSession\u001b[0m\u001b[0;34m\u001b[0m\u001b[0;34m\u001b[0m\u001b[0m\n\u001b[1;32m     15\u001b[0m \u001b[0mspark\u001b[0m \u001b[0;34m=\u001b[0m \u001b[0mSparkSession\u001b[0m\u001b[0;34m.\u001b[0m\u001b[0mbuilder\u001b[0m\u001b[0;34m.\u001b[0m\u001b[0mmaster\u001b[0m\u001b[0;34m(\u001b[0m\u001b[0;34m\"local[*]\"\u001b[0m\u001b[0;34m)\u001b[0m\u001b[0;34m.\u001b[0m\u001b[0mgetOrCreate\u001b[0m\u001b[0;34m(\u001b[0m\u001b[0;34m)\u001b[0m\u001b[0;34m\u001b[0m\u001b[0;34m\u001b[0m\u001b[0m\n",
            "\u001b[0;32m/content/spark-2.4.7-bin-hadoop2.7/python/pyspark/context.py\u001b[0m in \u001b[0;36m__init__\u001b[0;34m(self, master, appName, sparkHome, pyFiles, environment, batchSize, serializer, conf, gateway, jsc, profiler_cls)\u001b[0m\n\u001b[1;32m    131\u001b[0m                     \" note this option will be removed in Spark 3.0\")\n\u001b[1;32m    132\u001b[0m \u001b[0;34m\u001b[0m\u001b[0m\n\u001b[0;32m--> 133\u001b[0;31m         \u001b[0mSparkContext\u001b[0m\u001b[0;34m.\u001b[0m\u001b[0m_ensure_initialized\u001b[0m\u001b[0;34m(\u001b[0m\u001b[0mself\u001b[0m\u001b[0;34m,\u001b[0m \u001b[0mgateway\u001b[0m\u001b[0;34m=\u001b[0m\u001b[0mgateway\u001b[0m\u001b[0;34m,\u001b[0m \u001b[0mconf\u001b[0m\u001b[0;34m=\u001b[0m\u001b[0mconf\u001b[0m\u001b[0;34m)\u001b[0m\u001b[0;34m\u001b[0m\u001b[0;34m\u001b[0m\u001b[0m\n\u001b[0m\u001b[1;32m    134\u001b[0m         \u001b[0;32mtry\u001b[0m\u001b[0;34m:\u001b[0m\u001b[0;34m\u001b[0m\u001b[0;34m\u001b[0m\u001b[0m\n\u001b[1;32m    135\u001b[0m             self._do_init(master, appName, sparkHome, pyFiles, environment, batchSize, serializer,\n",
            "\u001b[0;32m/content/spark-2.4.7-bin-hadoop2.7/python/pyspark/context.py\u001b[0m in \u001b[0;36m_ensure_initialized\u001b[0;34m(cls, instance, gateway, conf)\u001b[0m\n\u001b[1;32m    330\u001b[0m                         \u001b[0;34m\" created by %s at %s:%s \"\u001b[0m\u001b[0;34m\u001b[0m\u001b[0;34m\u001b[0m\u001b[0m\n\u001b[1;32m    331\u001b[0m                         % (currentAppName, currentMaster,\n\u001b[0;32m--> 332\u001b[0;31m                             callsite.function, callsite.file, callsite.linenum))\n\u001b[0m\u001b[1;32m    333\u001b[0m                 \u001b[0;32melse\u001b[0m\u001b[0;34m:\u001b[0m\u001b[0;34m\u001b[0m\u001b[0;34m\u001b[0m\u001b[0m\n\u001b[1;32m    334\u001b[0m                     \u001b[0mSparkContext\u001b[0m\u001b[0;34m.\u001b[0m\u001b[0m_active_spark_context\u001b[0m \u001b[0;34m=\u001b[0m \u001b[0minstance\u001b[0m\u001b[0;34m\u001b[0m\u001b[0;34m\u001b[0m\u001b[0m\n",
            "\u001b[0;31mValueError\u001b[0m: Cannot run multiple SparkContexts at once; existing SparkContext(app=pyspark-shell, master=local[*]) created by __init__ at <ipython-input-1-24ce6d5e1f14>:13 "
          ]
        }
      ]
    },
    {
      "cell_type": "markdown",
      "metadata": {
        "id": "0vR0qAgoa0BS"
      },
      "source": [
        "Cargamos los ficheros *CSV*"
      ]
    },
    {
      "cell_type": "code",
      "metadata": {
        "id": "bxDM7Tfka6gU"
      },
      "source": [
        "data_file1 = \"./BDpracticafinalCSV.csv\"\r\n",
        "practica_final = sc.textFile(data_file1)\r\n"
      ],
      "execution_count": null,
      "outputs": []
    },
    {
      "cell_type": "markdown",
      "metadata": {
        "id": "-K0F45yBre6w"
      },
      "source": [
        "Para cargar los ficheros *XSLX* (No me funciona pero dejo como se haría) Lo he sacado del siguiente link [XSLX en Spark](https://github.com/crealytics/spark-excel)"
      ]
    },
    {
      "cell_type": "markdown",
      "metadata": {
        "id": "1-sXrpxusJRY"
      },
      "source": [
        "+ Habría que instalar una librería de Scala"
      ]
    },
    {
      "cell_type": "code",
      "metadata": {
        "id": "_-cu9uVYrZp4"
      },
      "source": [
        "#groupId: com.crealytics\r\n",
        "#artifactId: spark-excel_2.12\r\n",
        "#version: 0.13.1"
      ],
      "execution_count": null,
      "outputs": []
    },
    {
      "cell_type": "markdown",
      "metadata": {
        "id": "L9QWr_KmtpmT"
      },
      "source": [
        "Crear un Dataframe desde un fichero xslx."
      ]
    },
    {
      "cell_type": "code",
      "metadata": {
        "id": "B5lScRh3tF7p"
      },
      "source": [
        "#import org.apache.spark.sql._\r\n",
        "\r\n",
        "#val spark: SparkSession = ???\r\n",
        "#val df = spark.read\r\n",
        "#    .format(\"com.crealytics.spark.excel\")\r\n",
        "#    .option(\"dataAddress\", \"'My Sheet'!B3:C35\") // Optional, default: \"A1\"\r\n",
        "#    .option(\"header\", \"true\") // Required\r\n",
        "#    .option(\"treatEmptyValuesAsNulls\", \"false\") // Optional, default: true\r\n",
        "#    .option(\"usePlainNumberFormat\", \"false\") // Optional, default: false, If true, format the cells without rounding and scientific notations\r\n",
        "#    .option(\"inferSchema\", \"false\") // Optional, default: false\r\n",
        "#    .option(\"addColorColumns\", \"true\") // Optional, default: false\r\n",
        "#    .option(\"timestampFormat\", \"MM-dd-yyyy HH:mm:ss\") // Optional, default: yyyy-mm-dd hh:mm:ss[.fffffffff]\r\n",
        "#    .option(\"maxRowsInMemory\", 20) // Optional, default None. If set, uses a streaming reader which can help with big files\r\n",
        "#    .option(\"excerptSize\", 10) // Optional, default: 10. If set and if schema inferred, number of rows to infer schema from\r\n",
        "#    .option(\"workbookPassword\", \"pass\") // Optional, default None. Requires unlimited strength JCE for older JVMs\r\n",
        "#    .schema(myCustomSchema) // Optional, default: Either inferred schema, or all columns are Strings\r\n",
        "#    .load(\"BDpracticafinal2021.xlsx\")"
      ],
      "execution_count": null,
      "outputs": []
    },
    {
      "cell_type": "code",
      "metadata": {
        "colab": {
          "base_uri": "https://localhost:8080/"
        },
        "id": "DR7tEVpBblfk",
        "outputId": "d62b719e-011e-46c1-d1e1-bbc7374dff55"
      },
      "source": [
        "practica_final.take(5)"
      ],
      "execution_count": null,
      "outputs": [
        {
          "output_type": "execute_result",
          "data": {
            "text/plain": [
              "['Order;MS Zoning;Lot Frontage;Lot Area;Land Contour;Land Slope;Overall Qual;Year Built;Year Remod/Add;Mas Vnr Type;Exter Qual;Bsmt Cond;Total Bsmt SF;Heating QC;Central Air;Full Bath;Half Bath;Bedroom AbvGr;Kitchen AbvGr;Kitchen Qual;TotRms AbvGrd;Garage Cars;Garage Area;Garage Cond;Pool Area;Pool QC;Mo Sold;Yr Sold;SalePrice',\n",
              " '1;RL;141;31770;Lvl;Gtl;6;1960;1960;Stone;TA;Gd;1080;Fa;Y;1;0;3;1;TA;7;2;528;TA;0;Sp;5;2010;215000',\n",
              " '2;RH;80;11622;Lvl;Gtl;5;1961;1961;None;TA;TA;882;TA;Y;1;0;2;1;TA;5;1;730;TA;0;Sp;6;2010;105000',\n",
              " '3;RL;81;14267;Lvl;Gtl;6;1958;1958;BrkFace;TA;TA;1329;TA;Y;1;1;3;1;Gd;6;1;312;TA;0;Sp;6;2010;172000',\n",
              " '4;RL;93;11160;Lvl;Gtl;7;1968;1968;None;Gd;TA;2110;Ex;Y;2;1;3;1;Ex;8;2;522;TA;0;Sp;4;2010;244000']"
            ]
          },
          "metadata": {
            "tags": []
          },
          "execution_count": 586
        }
      ]
    },
    {
      "cell_type": "code",
      "metadata": {
        "id": "NJA5jII3b25t"
      },
      "source": [
        "header = practica_final.first() #Quitamos el encabezado\r\n",
        "practica_final = practica_final.filter(lambda x : x != header)"
      ],
      "execution_count": null,
      "outputs": []
    },
    {
      "cell_type": "code",
      "metadata": {
        "colab": {
          "base_uri": "https://localhost:8080/"
        },
        "id": "Nfq_cf2Mb8J3",
        "outputId": "45a5e36a-8a65-48d7-d14b-fd871b9d3c0b"
      },
      "source": [
        "practica_final.take(3)"
      ],
      "execution_count": null,
      "outputs": [
        {
          "output_type": "execute_result",
          "data": {
            "text/plain": [
              "['1;RL;141;31770;Lvl;Gtl;6;1960;1960;Stone;TA;Gd;1080;Fa;Y;1;0;3;1;TA;7;2;528;TA;0;Sp;5;2010;215000',\n",
              " '2;RH;80;11622;Lvl;Gtl;5;1961;1961;None;TA;TA;882;TA;Y;1;0;2;1;TA;5;1;730;TA;0;Sp;6;2010;105000',\n",
              " '3;RL;81;14267;Lvl;Gtl;6;1958;1958;BrkFace;TA;TA;1329;TA;Y;1;1;3;1;Gd;6;1;312;TA;0;Sp;6;2010;172000']"
            ]
          },
          "metadata": {
            "tags": []
          },
          "execution_count": 588
        }
      ]
    },
    {
      "cell_type": "markdown",
      "metadata": {
        "id": "DD-lVzZvcj2J"
      },
      "source": [
        "Split de ;"
      ]
    },
    {
      "cell_type": "code",
      "metadata": {
        "colab": {
          "base_uri": "https://localhost:8080/"
        },
        "id": "FYhOWzYxcjQC",
        "outputId": "5e5ed47d-7b05-4d50-834a-ca2495979c4c"
      },
      "source": [
        "data=practica_final.map(lambda x:x.split(\";\")) #parseado hacemos una lista por ;\r\n",
        "data.take(1)"
      ],
      "execution_count": null,
      "outputs": [
        {
          "output_type": "execute_result",
          "data": {
            "text/plain": [
              "[['1',\n",
              "  'RL',\n",
              "  '141',\n",
              "  '31770',\n",
              "  'Lvl',\n",
              "  'Gtl',\n",
              "  '6',\n",
              "  '1960',\n",
              "  '1960',\n",
              "  'Stone',\n",
              "  'TA',\n",
              "  'Gd',\n",
              "  '1080',\n",
              "  'Fa',\n",
              "  'Y',\n",
              "  '1',\n",
              "  '0',\n",
              "  '3',\n",
              "  '1',\n",
              "  'TA',\n",
              "  '7',\n",
              "  '2',\n",
              "  '528',\n",
              "  'TA',\n",
              "  '0',\n",
              "  'Sp',\n",
              "  '5',\n",
              "  '2010',\n",
              "  '215000']]"
            ]
          },
          "metadata": {
            "tags": []
          },
          "execution_count": 589
        }
      ]
    },
    {
      "cell_type": "code",
      "metadata": {
        "colab": {
          "base_uri": "https://localhost:8080/"
        },
        "id": "sOMtFaX0U5FZ",
        "outputId": "7bcc330c-9047-49c0-c976-c731a1aaacbd"
      },
      "source": [
        "data.take(1)"
      ],
      "execution_count": null,
      "outputs": [
        {
          "output_type": "execute_result",
          "data": {
            "text/plain": [
              "[['1',\n",
              "  'RL',\n",
              "  '141',\n",
              "  '31770',\n",
              "  'Lvl',\n",
              "  'Gtl',\n",
              "  '6',\n",
              "  '1960',\n",
              "  '1960',\n",
              "  'Stone',\n",
              "  'TA',\n",
              "  'Gd',\n",
              "  '1080',\n",
              "  'Fa',\n",
              "  'Y',\n",
              "  '1',\n",
              "  '0',\n",
              "  '3',\n",
              "  '1',\n",
              "  'TA',\n",
              "  '7',\n",
              "  '2',\n",
              "  '528',\n",
              "  'TA',\n",
              "  '0',\n",
              "  'Sp',\n",
              "  '5',\n",
              "  '2010',\n",
              "  '215000']]"
            ]
          },
          "metadata": {
            "tags": []
          },
          "execution_count": 590
        }
      ]
    },
    {
      "cell_type": "markdown",
      "metadata": {
        "id": "zkkV-iFvwnYl"
      },
      "source": [
        "Filtramos por las zonas residenciales que deseamos"
      ]
    },
    {
      "cell_type": "code",
      "metadata": {
        "id": "IFJC4pL9udea"
      },
      "source": [
        "data = data.filter(lambda x: ((x[1] == 'rL') or (x[1] == 'RL') or (x[1] == 'Rl') or (x[1] == 'RM') or (x[1] == 'RH')) )"
      ],
      "execution_count": null,
      "outputs": []
    },
    {
      "cell_type": "code",
      "metadata": {
        "colab": {
          "base_uri": "https://localhost:8080/"
        },
        "id": "JFuVHxmGvTnm",
        "outputId": "19bb5560-380a-4352-93a1-b6caa71a2026"
      },
      "source": [
        "data.take(5)"
      ],
      "execution_count": null,
      "outputs": [
        {
          "output_type": "execute_result",
          "data": {
            "text/plain": [
              "[['1',\n",
              "  'RL',\n",
              "  '141',\n",
              "  '31770',\n",
              "  'Lvl',\n",
              "  'Gtl',\n",
              "  '6',\n",
              "  '1960',\n",
              "  '1960',\n",
              "  'Stone',\n",
              "  'TA',\n",
              "  'Gd',\n",
              "  '1080',\n",
              "  'Fa',\n",
              "  'Y',\n",
              "  '1',\n",
              "  '0',\n",
              "  '3',\n",
              "  '1',\n",
              "  'TA',\n",
              "  '7',\n",
              "  '2',\n",
              "  '528',\n",
              "  'TA',\n",
              "  '0',\n",
              "  'Sp',\n",
              "  '5',\n",
              "  '2010',\n",
              "  '215000'],\n",
              " ['2',\n",
              "  'RH',\n",
              "  '80',\n",
              "  '11622',\n",
              "  'Lvl',\n",
              "  'Gtl',\n",
              "  '5',\n",
              "  '1961',\n",
              "  '1961',\n",
              "  'None',\n",
              "  'TA',\n",
              "  'TA',\n",
              "  '882',\n",
              "  'TA',\n",
              "  'Y',\n",
              "  '1',\n",
              "  '0',\n",
              "  '2',\n",
              "  '1',\n",
              "  'TA',\n",
              "  '5',\n",
              "  '1',\n",
              "  '730',\n",
              "  'TA',\n",
              "  '0',\n",
              "  'Sp',\n",
              "  '6',\n",
              "  '2010',\n",
              "  '105000'],\n",
              " ['3',\n",
              "  'RL',\n",
              "  '81',\n",
              "  '14267',\n",
              "  'Lvl',\n",
              "  'Gtl',\n",
              "  '6',\n",
              "  '1958',\n",
              "  '1958',\n",
              "  'BrkFace',\n",
              "  'TA',\n",
              "  'TA',\n",
              "  '1329',\n",
              "  'TA',\n",
              "  'Y',\n",
              "  '1',\n",
              "  '1',\n",
              "  '3',\n",
              "  '1',\n",
              "  'Gd',\n",
              "  '6',\n",
              "  '1',\n",
              "  '312',\n",
              "  'TA',\n",
              "  '0',\n",
              "  'Sp',\n",
              "  '6',\n",
              "  '2010',\n",
              "  '172000'],\n",
              " ['4',\n",
              "  'RL',\n",
              "  '93',\n",
              "  '11160',\n",
              "  'Lvl',\n",
              "  'Gtl',\n",
              "  '7',\n",
              "  '1968',\n",
              "  '1968',\n",
              "  'None',\n",
              "  'Gd',\n",
              "  'TA',\n",
              "  '2110',\n",
              "  'Ex',\n",
              "  'Y',\n",
              "  '2',\n",
              "  '1',\n",
              "  '3',\n",
              "  '1',\n",
              "  'Ex',\n",
              "  '8',\n",
              "  '2',\n",
              "  '522',\n",
              "  'TA',\n",
              "  '0',\n",
              "  'Sp',\n",
              "  '4',\n",
              "  '2010',\n",
              "  '244000'],\n",
              " ['5',\n",
              "  'RL',\n",
              "  '74',\n",
              "  '13830',\n",
              "  'Lvl',\n",
              "  'Gtl',\n",
              "  '5',\n",
              "  '1997',\n",
              "  '1998',\n",
              "  'None',\n",
              "  'TA',\n",
              "  'TA',\n",
              "  '928',\n",
              "  'Gd',\n",
              "  'Y',\n",
              "  '2',\n",
              "  '1',\n",
              "  '3',\n",
              "  '1',\n",
              "  'TA',\n",
              "  '6',\n",
              "  '2',\n",
              "  '482',\n",
              "  'TA',\n",
              "  '0',\n",
              "  'Sp',\n",
              "  '3',\n",
              "  '2010',\n",
              "  '189900']]"
            ]
          },
          "metadata": {
            "tags": []
          },
          "execution_count": 592
        }
      ]
    },
    {
      "cell_type": "markdown",
      "metadata": {
        "id": "k2_L6PRlaB0_"
      },
      "source": [
        "## Cuántas viviendas distintas encontramos en el dataset? ¿Se repite alguna? Tiene sentido que haya duplicadas? ¿Qué podemos hacer con las duplicadas?"
      ]
    },
    {
      "cell_type": "code",
      "metadata": {
        "colab": {
          "base_uri": "https://localhost:8080/"
        },
        "id": "7gZG6Oq1dJzx",
        "outputId": "e4acfecd-fd80-4ce4-c028-f2a99628925d"
      },
      "source": [
        "repetidos= data.map(lambda x: x[0]) #cogemos la primera posición\r\n",
        "repetidos.distinct().count() "
      ],
      "execution_count": null,
      "outputs": [
        {
          "output_type": "execute_result",
          "data": {
            "text/plain": [
              "2762"
            ]
          },
          "metadata": {
            "tags": []
          },
          "execution_count": 593
        }
      ]
    },
    {
      "cell_type": "code",
      "metadata": {
        "colab": {
          "base_uri": "https://localhost:8080/"
        },
        "id": "low6KVj4ge5k",
        "outputId": "31f1a895-7607-40b7-fc19-6a6be17e4a14"
      },
      "source": [
        "repetidos.count() #hay 6 observaciones que a priori están repetidas"
      ],
      "execution_count": null,
      "outputs": [
        {
          "output_type": "execute_result",
          "data": {
            "text/plain": [
              "2768"
            ]
          },
          "metadata": {
            "tags": []
          },
          "execution_count": 594
        }
      ]
    },
    {
      "cell_type": "markdown",
      "metadata": {
        "id": "FjGOIDOefvxU"
      },
      "source": [
        "Los repetidos son las propiedades con los identificadores **2898, 2930,2929,2901,2899 y 2900**, continuaremos con estos, ya que no he conseguido encontrar la función correspondiente."
      ]
    },
    {
      "cell_type": "markdown",
      "metadata": {
        "id": "LJfsIAPdaB1A"
      },
      "source": [
        "## ¿Podrías decirme el total de inmuebles y el precio medio (Sale Price) de cada zona (MS Zoning)?"
      ]
    },
    {
      "cell_type": "code",
      "metadata": {
        "id": "V1nbXIDLhUp5"
      },
      "source": [
        "price_per_area= data.map(lambda x:(x[1],float(x[-1])))"
      ],
      "execution_count": null,
      "outputs": []
    },
    {
      "cell_type": "code",
      "metadata": {
        "colab": {
          "base_uri": "https://localhost:8080/"
        },
        "id": "pxGkHiRCiO3a",
        "outputId": "8accebf9-ecdc-4bb2-b1eb-b4d4e3ee4f9f"
      },
      "source": [
        "price_per_area.take(3)"
      ],
      "execution_count": null,
      "outputs": [
        {
          "output_type": "execute_result",
          "data": {
            "text/plain": [
              "[('RL', 215000.0), ('RH', 105000.0), ('RL', 172000.0)]"
            ]
          },
          "metadata": {
            "tags": []
          },
          "execution_count": 596
        }
      ]
    },
    {
      "cell_type": "markdown",
      "metadata": {
        "id": "zNh89wO_XMDZ"
      },
      "source": [
        "Nos fijamos en las distintas zonas posibles que hay"
      ]
    },
    {
      "cell_type": "code",
      "metadata": {
        "id": "XTSA4IAZXIjZ"
      },
      "source": [
        "zonas = price_per_area.map(lambda x: x[0])"
      ],
      "execution_count": null,
      "outputs": []
    },
    {
      "cell_type": "code",
      "metadata": {
        "colab": {
          "base_uri": "https://localhost:8080/"
        },
        "id": "KjPNh6qGXcoA",
        "outputId": "98e7d6a1-dc53-461e-e8bd-1d33980c96ab"
      },
      "source": [
        "zonas.distinct().collect()"
      ],
      "execution_count": null,
      "outputs": [
        {
          "output_type": "execute_result",
          "data": {
            "text/plain": [
              "['RL', 'RH', 'Rl', 'RM', 'rL']"
            ]
          },
          "metadata": {
            "tags": []
          },
          "execution_count": 598
        }
      ]
    },
    {
      "cell_type": "markdown",
      "metadata": {
        "id": "E-m_l5leXshU"
      },
      "source": [
        "Con que tenemos  **rL y Rl** que son variantes de RL las ponemos en mayúsculas todas"
      ]
    },
    {
      "cell_type": "code",
      "metadata": {
        "id": "3mJrE1j0Xoit"
      },
      "source": [
        "price_per_area = data.map(lambda x: (x[1].upper(), float(x[-1]))) #.isupper() para pasarlo a mayúscula"
      ],
      "execution_count": null,
      "outputs": []
    },
    {
      "cell_type": "code",
      "metadata": {
        "colab": {
          "base_uri": "https://localhost:8080/"
        },
        "id": "kGJcZQzhiS25",
        "outputId": "ba652ee3-d4db-473e-9050-4ea73579b9d2"
      },
      "source": [
        "mean_per_area = price_per_area.combineByKey(\r\n",
        "                                            (lambda x: (x, 1)), # the initial value, with value x and count 1\r\n",
        "                                            (lambda acc, value: (acc[0]+value, acc[1]+1)), # how to combine a pair value with the accumulator: sum value, and increment count\r\n",
        "                                             (lambda acc1, acc2: (acc1[0]+acc2[0], acc1[1]+acc2[1])) # combine accumulators\r\n",
        "                                                )\r\n",
        "\r\n",
        "mean_per_area.collect()  #agrupamos por la clave que es la zona, contamos el numero de veces que aparece el indicador (derecha del paréntesis) y la suma de precios (izq del paréntesis)"
      ],
      "execution_count": null,
      "outputs": [
        {
          "output_type": "execute_result",
          "data": {
            "text/plain": [
              "[('RL', (436229331.0, 2279)),\n",
              " ('RH', (3683334.0, 27)),\n",
              " ('RM', (58573004.0, 462))]"
            ]
          },
          "metadata": {
            "tags": []
          },
          "execution_count": 600
        }
      ]
    },
    {
      "cell_type": "markdown",
      "metadata": {
        "id": "9mACLwAni_Zb"
      },
      "source": [
        "Calculamos la media"
      ]
    },
    {
      "cell_type": "code",
      "metadata": {
        "colab": {
          "base_uri": "https://localhost:8080/"
        },
        "id": "uCaxGsESi2Sk",
        "outputId": "246a8c40-1525-4238-f417-3057289ece9e"
      },
      "source": [
        "mean_area = mean_per_area.map(lambda x: (x[0], round(x[1][0]/x[1][1], 2))).sortBy(lambda y: y[1]).collect() \r\n",
        "#media de los precios entre el número de observaciones de cada indicadores\r\n",
        "mean_area"
      ],
      "execution_count": null,
      "outputs": [
        {
          "output_type": "execute_result",
          "data": {
            "text/plain": [
              "[('RM', 126781.39), ('RH', 136419.78), ('RL', 191412.61)]"
            ]
          },
          "metadata": {
            "tags": []
          },
          "execution_count": 601
        }
      ]
    },
    {
      "cell_type": "markdown",
      "metadata": {
        "id": "4UE6B7c8GAMq"
      },
      "source": [
        "Las zonas de menor densidad poblacional son más baratos, no obstante las de mayor densidad son más c"
      ]
    },
    {
      "cell_type": "markdown",
      "metadata": {
        "id": "oUs9WWLgaB1A"
      },
      "source": [
        "## Media de Total Bsmt SF por cada década de construcción calculada a partir de Year Built. \n",
        "## ¿Cuál es la decada de construcción con viviendas mejor acondicionadas para el frío (Heating QC)?"
      ]
    },
    {
      "cell_type": "markdown",
      "metadata": {
        "id": "aGfPeaY2wVOx"
      },
      "source": [
        "Creamos los intervalos de las decadas para después aplicarlo a la columna y tener una key"
      ]
    },
    {
      "cell_type": "code",
      "metadata": {
        "id": "wz2_HeL2sQ5_"
      },
      "source": [
        "def interv (x):\r\n",
        "  if x <= 1880:\r\n",
        "    return (\"1870-1880\")\r\n",
        "  elif x <= 1890:\r\n",
        "    return (\"1880-1890\")\r\n",
        "  elif x <= 1900 :\r\n",
        "    return (\"1890-1900\")\r\n",
        "  elif x <= 1910 :\r\n",
        "    return (\"1900-1910\")\r\n",
        "  elif x <= 1920 :\r\n",
        "    return (\"1910-1920\")\r\n",
        "  elif x <= 1930 :\r\n",
        "    return (\"1920-1930\")\r\n",
        "  elif x <= 1940 :\r\n",
        "    return (\"1930-1940\")\r\n",
        "  elif x <= 1950 :\r\n",
        "    return (\"1940-1950\")\r\n",
        "  elif x <= 1960 :\r\n",
        "    return (\"1950-1960\")\r\n",
        "  elif x <= 1970 :\r\n",
        "    return (\"1960-1970\")\r\n",
        "  elif x <= 1980 :\r\n",
        "    return (\"1970-1980\")\r\n",
        "  elif x <= 1990 :\r\n",
        "    return (\"1980-1990\")\r\n",
        "  elif x <= 2000 :\r\n",
        "    return (\"1990-2000\")\r\n",
        "  else:\r\n",
        "    return (\"2000-2010\")"
      ],
      "execution_count": null,
      "outputs": []
    },
    {
      "cell_type": "markdown",
      "metadata": {
        "id": "lYpwiJKyweEx"
      },
      "source": [
        "Aplicamos la función"
      ]
    },
    {
      "cell_type": "code",
      "metadata": {
        "id": "PfwPrPK3jTpQ"
      },
      "source": [
        "año= data.map( lambda x: (int(x[7]), float(x[-17]), interv(int(x[7])))) "
      ],
      "execution_count": null,
      "outputs": []
    },
    {
      "cell_type": "code",
      "metadata": {
        "colab": {
          "base_uri": "https://localhost:8080/"
        },
        "id": "fNEPCxa4YObf",
        "outputId": "0a40a74f-f807-4a1f-9917-f19a76cff5f3"
      },
      "source": [
        "año.take(2)"
      ],
      "execution_count": null,
      "outputs": [
        {
          "output_type": "execute_result",
          "data": {
            "text/plain": [
              "[(1960, 1080.0, '1950-1960'), (1961, 882.0, '1960-1970')]"
            ]
          },
          "metadata": {
            "tags": []
          },
          "execution_count": 604
        }
      ]
    },
    {
      "cell_type": "code",
      "metadata": {
        "id": "uQCB9xge_QWJ"
      },
      "source": [
        "años =año.map(lambda x: (x[2],x[1])) #cogemis"
      ],
      "execution_count": null,
      "outputs": []
    },
    {
      "cell_type": "code",
      "metadata": {
        "colab": {
          "base_uri": "https://localhost:8080/"
        },
        "id": "xnY5yuPGupJD",
        "outputId": "35ab5755-a935-45fa-ccf3-83f9a91f9242"
      },
      "source": [
        "años.take(5) #Comprobamos que funciona"
      ],
      "execution_count": null,
      "outputs": [
        {
          "output_type": "execute_result",
          "data": {
            "text/plain": [
              "[('1950-1960', 1080.0),\n",
              " ('1960-1970', 882.0),\n",
              " ('1950-1960', 1329.0),\n",
              " ('1960-1970', 2110.0),\n",
              " ('1990-2000', 928.0)]"
            ]
          },
          "metadata": {
            "tags": []
          },
          "execution_count": 606
        }
      ]
    },
    {
      "cell_type": "code",
      "metadata": {
        "colab": {
          "base_uri": "https://localhost:8080/"
        },
        "id": "vEyuSrVGwKEs",
        "outputId": "22e73629-9477-4dd0-a330-9d497f25a867"
      },
      "source": [
        "mean_per_year = años.combineByKey(\r\n",
        "                                    (lambda x: (x, 1)), # the initial value, with value x and count 1\r\n",
        "                                    (lambda acc, value: (acc[0]+value, acc[1]+1)), # how to combine a pair value with the accumulator: sum value, and increment count\r\n",
        "                                    (lambda acc1, acc2: (acc1[0]+acc2[0], acc1[1]+acc2[1])) # combine accumulators\r\n",
        "                                                )\r\n",
        "\r\n",
        "mean_per_year.collect()  #agrupamos por la clave que es la zona, contamos el numero de veces que aparece el indicador y la suma de precios"
      ],
      "execution_count": null,
      "outputs": [
        {
          "output_type": "execute_result",
          "data": {
            "text/plain": [
              "[('1950-1960', (337379.0, 334)),\n",
              " ('1960-1970', (381098.0, 362)),\n",
              " ('1890-1900', (23658.0, 31)),\n",
              " ('1920-1930', (135758.0, 163)),\n",
              " ('1880-1890', (8038.0, 10)),\n",
              " ('1870-1880', (6637.0, 8)),\n",
              " ('1990-2000', (375421.0, 332)),\n",
              " ('2000-2010', (860017.0, 631)),\n",
              " ('1980-1990', (130740.0, 113)),\n",
              " ('1970-1980', (335775.0, 350)),\n",
              " ('1910-1920', (93650.0, 116)),\n",
              " ('1940-1950', (107148.0, 151)),\n",
              " ('1930-1940', (92039.0, 118)),\n",
              " ('1900-1910', (35595.0, 49))]"
            ]
          },
          "metadata": {
            "tags": []
          },
          "execution_count": 607
        }
      ]
    },
    {
      "cell_type": "code",
      "metadata": {
        "colab": {
          "base_uri": "https://localhost:8080/"
        },
        "id": "ZBEaL2-c_xE5",
        "outputId": "21bdd9a1-19b5-4e41-e911-e94097657496"
      },
      "source": [
        "#hacemos la media\r\n",
        "mean_year = mean_per_year.map(lambda x: (x[0], round(x[1][0]/x[1][1], 2))).sortBy(lambda y: y[1]).collect()\r\n",
        "mean_year"
      ],
      "execution_count": null,
      "outputs": [
        {
          "output_type": "execute_result",
          "data": {
            "text/plain": [
              "[('1940-1950', 709.59),\n",
              " ('1900-1910', 726.43),\n",
              " ('1890-1900', 763.16),\n",
              " ('1930-1940', 779.99),\n",
              " ('1880-1890', 803.8),\n",
              " ('1910-1920', 807.33),\n",
              " ('1870-1880', 829.62),\n",
              " ('1920-1930', 832.87),\n",
              " ('1970-1980', 959.36),\n",
              " ('1950-1960', 1010.12),\n",
              " ('1960-1970', 1052.76),\n",
              " ('1990-2000', 1130.79),\n",
              " ('1980-1990', 1156.99),\n",
              " ('2000-2010', 1362.94)]"
            ]
          },
          "metadata": {
            "tags": []
          },
          "execution_count": 608
        }
      ]
    },
    {
      "cell_type": "markdown",
      "metadata": {
        "id": "yEAOWeCfjkCX"
      },
      "source": [
        "Para el Heating QC contamos la década que tiene la calefacción de mejor calidad en este caso esta identificado como **Ex**"
      ]
    },
    {
      "cell_type": "code",
      "metadata": {
        "id": "6X7fIE1qjKP-"
      },
      "source": [
        "excelent =data.filter(lambda x: (x[13]== \"Ex\")) #cogemos todos los que son excelentes con el filter"
      ],
      "execution_count": null,
      "outputs": []
    },
    {
      "cell_type": "code",
      "metadata": {
        "colab": {
          "base_uri": "https://localhost:8080/"
        },
        "id": "mDdBVaHgkJn_",
        "outputId": "08cd765a-1ad6-4d76-f852-446da43badf8"
      },
      "source": [
        "excelent.take(5) #comprobamos"
      ],
      "execution_count": null,
      "outputs": [
        {
          "output_type": "execute_result",
          "data": {
            "text/plain": [
              "[['4',\n",
              "  'RL',\n",
              "  '93',\n",
              "  '11160',\n",
              "  'Lvl',\n",
              "  'Gtl',\n",
              "  '7',\n",
              "  '1968',\n",
              "  '1968',\n",
              "  'None',\n",
              "  'Gd',\n",
              "  'TA',\n",
              "  '2110',\n",
              "  'Ex',\n",
              "  'Y',\n",
              "  '2',\n",
              "  '1',\n",
              "  '3',\n",
              "  '1',\n",
              "  'Ex',\n",
              "  '8',\n",
              "  '2',\n",
              "  '522',\n",
              "  'TA',\n",
              "  '0',\n",
              "  'Sp',\n",
              "  '4',\n",
              "  '2010',\n",
              "  '244000'],\n",
              " ['6',\n",
              "  'RL',\n",
              "  '78',\n",
              "  '9978',\n",
              "  'Lvl',\n",
              "  'Gtl',\n",
              "  '6',\n",
              "  '1998',\n",
              "  '1998',\n",
              "  'BrkFace',\n",
              "  'TA',\n",
              "  'TA',\n",
              "  '926',\n",
              "  'Ex',\n",
              "  'Y',\n",
              "  '2',\n",
              "  '1',\n",
              "  '3',\n",
              "  '1',\n",
              "  'Gd',\n",
              "  '7',\n",
              "  '2',\n",
              "  '470',\n",
              "  'TA',\n",
              "  '0',\n",
              "  'Sp',\n",
              "  '6',\n",
              "  '2010',\n",
              "  '195500'],\n",
              " ['7',\n",
              "  'RL',\n",
              "  '41',\n",
              "  '4920',\n",
              "  'Lvl',\n",
              "  'Gtl',\n",
              "  '8',\n",
              "  '2001',\n",
              "  '2001',\n",
              "  'None',\n",
              "  'Gd',\n",
              "  'TA',\n",
              "  '1338',\n",
              "  'Ex',\n",
              "  'Y',\n",
              "  '2',\n",
              "  '0',\n",
              "  '2',\n",
              "  '1',\n",
              "  'Gd',\n",
              "  '6',\n",
              "  '2',\n",
              "  '582',\n",
              "  'TA',\n",
              "  '0',\n",
              "  'Sp',\n",
              "  '4',\n",
              "  '2010',\n",
              "  '213500'],\n",
              " ['8',\n",
              "  'RL',\n",
              "  '43',\n",
              "  '5005',\n",
              "  'HLS',\n",
              "  'Gtl',\n",
              "  '8',\n",
              "  '1992',\n",
              "  '1992',\n",
              "  'None',\n",
              "  'Gd',\n",
              "  'TA',\n",
              "  '1280',\n",
              "  'Ex',\n",
              "  'Y',\n",
              "  '2',\n",
              "  '0',\n",
              "  '2',\n",
              "  '1',\n",
              "  'Gd',\n",
              "  '5',\n",
              "  '2',\n",
              "  '506',\n",
              "  'TA',\n",
              "  '0',\n",
              "  'Sp',\n",
              "  '1',\n",
              "  '2010',\n",
              "  '191500'],\n",
              " ['9',\n",
              "  'RL',\n",
              "  '39',\n",
              "  '5389',\n",
              "  'Lvl',\n",
              "  'Gtl',\n",
              "  '8',\n",
              "  '1995',\n",
              "  '1996',\n",
              "  'None',\n",
              "  'Gd',\n",
              "  'TA',\n",
              "  '1595',\n",
              "  'Ex',\n",
              "  'Y',\n",
              "  '2',\n",
              "  '0',\n",
              "  '2',\n",
              "  '1',\n",
              "  'Gd',\n",
              "  '5',\n",
              "  '2',\n",
              "  '608',\n",
              "  'TA',\n",
              "  '0',\n",
              "  'Sp',\n",
              "  '3',\n",
              "  '2010',\n",
              "  '236500']]"
            ]
          },
          "metadata": {
            "tags": []
          },
          "execution_count": 610
        }
      ]
    },
    {
      "cell_type": "code",
      "metadata": {
        "id": "G0aOWrMJlAPD"
      },
      "source": [
        "excelent= excelent.map( lambda x: ( x[13], interv(int(x[7]))))  #hacemos lo mismo que anteriromente"
      ],
      "execution_count": null,
      "outputs": []
    },
    {
      "cell_type": "code",
      "metadata": {
        "colab": {
          "base_uri": "https://localhost:8080/"
        },
        "id": "Goctx-TGlPsn",
        "outputId": "1255d8a6-467f-440b-ca8f-3b9fd5d9d5ae"
      },
      "source": [
        "excelent.take(10)"
      ],
      "execution_count": null,
      "outputs": [
        {
          "output_type": "execute_result",
          "data": {
            "text/plain": [
              "[('Ex', '1960-1970'),\n",
              " ('Ex', '1990-2000'),\n",
              " ('Ex', '2000-2010'),\n",
              " ('Ex', '1990-2000'),\n",
              " ('Ex', '1990-2000'),\n",
              " ('Ex', '1990-2000'),\n",
              " ('Ex', '2000-2010'),\n",
              " ('Ex', '2000-2010'),\n",
              " ('Ex', '1950-1960'),\n",
              " ('Ex', '1970-1980')]"
            ]
          },
          "metadata": {
            "tags": []
          },
          "execution_count": 612
        }
      ]
    },
    {
      "cell_type": "code",
      "metadata": {
        "id": "spy6G74Xlaug"
      },
      "source": [
        "excel = excelent.map( lambda x: (x[1],x[0])) #la key es la decada"
      ],
      "execution_count": null,
      "outputs": []
    },
    {
      "cell_type": "code",
      "metadata": {
        "colab": {
          "base_uri": "https://localhost:8080/"
        },
        "id": "xftQaMfnmioL",
        "outputId": "471f58aa-31f2-4940-d141-9772492c3b22"
      },
      "source": [
        "excel.countByKey()"
      ],
      "execution_count": null,
      "outputs": [
        {
          "output_type": "execute_result",
          "data": {
            "text/plain": [
              "defaultdict(int,\n",
              "            {'1870-1880': 2,\n",
              "             '1880-1890': 2,\n",
              "             '1890-1900': 11,\n",
              "             '1900-1910': 13,\n",
              "             '1910-1920': 43,\n",
              "             '1920-1930': 47,\n",
              "             '1930-1940': 46,\n",
              "             '1940-1950': 48,\n",
              "             '1950-1960': 99,\n",
              "             '1960-1970': 90,\n",
              "             '1970-1980': 59,\n",
              "             '1980-1990': 33,\n",
              "             '1990-2000': 264,\n",
              "             '2000-2010': 606})"
            ]
          },
          "metadata": {
            "tags": []
          },
          "execution_count": 614
        }
      ]
    },
    {
      "cell_type": "markdown",
      "metadata": {
        "id": "r15S3Yk9mvAV"
      },
      "source": [
        "La década con mejor calefacción es los 2000-2010 como es lógico ya que los avances permiten tener aires acondicionados de mejor calidad"
      ]
    },
    {
      "cell_type": "markdown",
      "metadata": {
        "id": "DvjXp5AWaB1A"
      },
      "source": [
        "## ¿Cuáles son las 10 viviendas que se vendieron por un precio más elevado por metro cuadrado en el año 2009?"
      ]
    },
    {
      "cell_type": "code",
      "metadata": {
        "id": "L7sL7dA4poc6"
      },
      "source": [
        "#filtramos por el año 2009\r\n",
        "dosmilnueve= data.filter(lambda x: int(x[-2]) == 2009)\r\n"
      ],
      "execution_count": null,
      "outputs": []
    },
    {
      "cell_type": "code",
      "metadata": {
        "id": "tACrg03iCDO_"
      },
      "source": [
        "#pasamos a metros y cogemos los identificadores\r\n",
        "dosmilnueve = dosmilnueve.map(lambda x: (int(x[0]),((float(x[3])*10.76), float(x[-1]))))"
      ],
      "execution_count": null,
      "outputs": []
    },
    {
      "cell_type": "code",
      "metadata": {
        "colab": {
          "base_uri": "https://localhost:8080/"
        },
        "id": "O3C8cVtLCzym",
        "outputId": "ffb349c7-54f5-47b6-cb3c-09b425304fb7"
      },
      "source": [
        "dosmilnueve_metros_precio= dosmilnueve.map(lambda x: ( round(float(x[1][1]/x[1][0]),3),x[0]))\r\n",
        "\r\n",
        "dosmilnueve_metros_precio.top(10) #cogemos las 10 que mayor precio por metro cuadrado tienen donde vemos a la izquierda el precio y derecha el identificador"
      ],
      "execution_count": null,
      "outputs": [
        {
          "output_type": "execute_result",
          "data": {
            "text/plain": [
              "[(8.865, 936),\n",
              " (8.557, 934),\n",
              " (7.089, 464),\n",
              " (6.976, 935),\n",
              " (6.611, 408),\n",
              " (6.528, 407),\n",
              " (6.196, 405),\n",
              " (6.167, 933),\n",
              " (6.14, 403),\n",
              " (6.053, 411)]"
            ]
          },
          "metadata": {
            "tags": []
          },
          "execution_count": 617
        }
      ]
    },
    {
      "cell_type": "markdown",
      "metadata": {
        "id": "RdD_R_OraB1B"
      },
      "source": [
        "## Media anual por zonas del precio de venta y metros cuadrados."
      ]
    },
    {
      "cell_type": "markdown",
      "metadata": {
        "id": "fv2EFLfPpj0A"
      },
      "source": [
        "Calculamos la media anual para el precio de venta y la media anual para los metros cuadrados"
      ]
    },
    {
      "cell_type": "code",
      "metadata": {
        "id": "-ncufozKpo78"
      },
      "source": [
        "price_year = data.map(lambda x: (int(x[-2]), float(x[-1])))"
      ],
      "execution_count": null,
      "outputs": []
    },
    {
      "cell_type": "code",
      "metadata": {
        "id": "g0C4Ra8nGNMn"
      },
      "source": [
        "meter2_year= data.map(lambda x: (int(x[-2]),(float(x[3])*10.764)))"
      ],
      "execution_count": null,
      "outputs": []
    },
    {
      "cell_type": "code",
      "metadata": {
        "colab": {
          "base_uri": "https://localhost:8080/"
        },
        "id": "3hG9q8huG2uT",
        "outputId": "2c5a6782-9f25-4f5f-bff8-72664eefd88b"
      },
      "source": [
        "mean_per_price = price_year.combineByKey(\r\n",
        "                                            (lambda x: (x, 1)), # the initial value, with value x and count 1\r\n",
        "                                            (lambda acc, value: (acc[0]+value, acc[1]+1)), # how to combine a pair value with the accumulator: sum value, and increment count\r\n",
        "                                            (lambda acc1, acc2: (acc1[0]+acc2[0], acc1[1]+acc2[1])) # combine accumulators\r\n",
        "                                                )\r\n",
        "\r\n",
        "mean_per_price.collect()  #agrupamos por la clave que es la año, contamos el numero de veces que aparece el indicador y la suma de precios"
      ],
      "execution_count": null,
      "outputs": [
        {
          "output_type": "execute_result",
          "data": {
            "text/plain": [
              "[(2010, (54372479.0, 316)),\n",
              " (2008, (103818941.0, 584)),\n",
              " (2006, (109938431.0, 601)),\n",
              " (2009, (109784205.0, 610)),\n",
              " (2007, (120571613.0, 657))]"
            ]
          },
          "metadata": {
            "tags": []
          },
          "execution_count": 620
        }
      ]
    },
    {
      "cell_type": "code",
      "metadata": {
        "colab": {
          "base_uri": "https://localhost:8080/"
        },
        "id": "nCpIZzUmHLAB",
        "outputId": "0a127d83-00ae-42fa-d476-666c2f90701a"
      },
      "source": [
        "mean_price = mean_per_price.map(lambda x: (x[0], round(x[1][0]/x[1][1], 2))).sortBy(lambda y: y[1]).collect()\r\n",
        "mean_price"
      ],
      "execution_count": null,
      "outputs": [
        {
          "output_type": "execute_result",
          "data": {
            "text/plain": [
              "[(2010, 172064.81),\n",
              " (2008, 177772.16),\n",
              " (2009, 179974.11),\n",
              " (2006, 182925.84),\n",
              " (2007, 183518.44)]"
            ]
          },
          "metadata": {
            "tags": []
          },
          "execution_count": 621
        }
      ]
    },
    {
      "cell_type": "code",
      "metadata": {
        "colab": {
          "base_uri": "https://localhost:8080/"
        },
        "id": "va6dqyT2HUbb",
        "outputId": "3e628f62-2cdb-4b33-bd23-2d2e9898ab21"
      },
      "source": [
        "mean_per_m2 = meter2_year.combineByKey( #la key en este caso es el año\r\n",
        "                                            (lambda x: (x, 1)), # the initial value, with value x and count 1\r\n",
        "                                            (lambda acc, value: (acc[0]+value, acc[1]+1)),  # how to combine a pair value with the accumulator: sum value, and increment count\r\n",
        "                                            (lambda acc1, acc2: (acc1[0]+acc2[0], acc1[1]+acc2[1])) # acc1[0]+acc2[0] suma el valor siguiente con la suma de precios y acc1[1]+acc2[1] suma los conteos\r\n",
        "                                                )\r\n",
        "\r\n",
        "mean_per_m2.collect()  #agrupamos por la clave que es la año, contamos el numero de veces que aparece el indicador y la suma de precios"
      ],
      "execution_count": null,
      "outputs": [
        {
          "output_type": "execute_result",
          "data": {
            "text/plain": [
              "[(2010, (34021150.487999976, 316)),\n",
              " (2008, (64748172.52799997, 584)),\n",
              " (2006, (66869886.09600002, 601)),\n",
              " (2009, (66248986.283999994, 610)),\n",
              " (2007, (75506586.012, 657))]"
            ]
          },
          "metadata": {
            "tags": []
          },
          "execution_count": 622
        }
      ]
    },
    {
      "cell_type": "code",
      "metadata": {
        "colab": {
          "base_uri": "https://localhost:8080/"
        },
        "id": "_uphuVcBHx-F",
        "outputId": "c64a3c14-4576-4546-8f32-1e6d968095a3"
      },
      "source": [
        "mean_m2 = mean_per_m2.map(lambda x: (x[0], round(x[1][0]/x[1][1], 2))).sortBy(lambda y: y[1]).collect()\r\n",
        "mean_m2"
      ],
      "execution_count": null,
      "outputs": [
        {
          "output_type": "execute_result",
          "data": {
            "text/plain": [
              "[(2010, 107661.87),\n",
              " (2009, 108604.9),\n",
              " (2008, 110870.16),\n",
              " (2006, 111264.37),\n",
              " (2007, 114926.31)]"
            ]
          },
          "metadata": {
            "tags": []
          },
          "execution_count": 623
        }
      ]
    },
    {
      "cell_type": "markdown",
      "metadata": {
        "id": "XFclH7CUaB1B"
      },
      "source": [
        "## ¿Podrías decirme el total de recaudación de las casas de revistimiento (Mas Vnr Type) de piedra con respecto a las de ladrillo? ¿Hay diferencia significativa?"
      ]
    },
    {
      "cell_type": "markdown",
      "metadata": {
        "id": "tm4hiz19LqqR"
      },
      "source": [
        "En primer lugar lo que nos interesa es filtrar justamente las filas de la columna 9 en este caso, que nos interesan, al igual que en los casos anteriores y posteriores calcularemos la media y a partir de ahí sacaremos nuestras conclusiones."
      ]
    },
    {
      "cell_type": "code",
      "metadata": {
        "id": "UWxJE3Sgppd9"
      },
      "source": [
        "brick = data.filter(lambda x: x[9] == 'BrkCmn').map(lambda x: (float(x[28]))) #miramos el del ladrillo normal primero"
      ],
      "execution_count": null,
      "outputs": []
    },
    {
      "cell_type": "code",
      "metadata": {
        "colab": {
          "base_uri": "https://localhost:8080/"
        },
        "id": "DZIVuR3t2cRL",
        "outputId": "b568d10b-e594-435e-ccbb-2021f91b7d83"
      },
      "source": [
        "#media\r\n",
        "mean_brick = brick.sum()/brick.count()\r\n",
        "mean_brick"
      ],
      "execution_count": null,
      "outputs": [
        {
          "output_type": "execute_result",
          "data": {
            "text/plain": [
              "140199.0"
            ]
          },
          "metadata": {
            "tags": []
          },
          "execution_count": 631
        }
      ]
    },
    {
      "cell_type": "code",
      "metadata": {
        "id": "2cdV0aLTH-NQ"
      },
      "source": [
        "brickbomba = data.filter(lambda x: x[9] == 'BrkFace').map(lambda x: (float(x[28]))) #miramos el del ladrillo visto primero"
      ],
      "execution_count": null,
      "outputs": []
    },
    {
      "cell_type": "code",
      "metadata": {
        "colab": {
          "base_uri": "https://localhost:8080/"
        },
        "id": "6zySJA2qKOGz",
        "outputId": "8fe8fa7c-b840-42dd-c097-ee6f1c83e74e"
      },
      "source": [
        "#media\r\n",
        "mean_brick_bomba = brickbomba.sum()/brickbomba.count()\r\n",
        "mean_brick"
      ],
      "execution_count": null,
      "outputs": [
        {
          "output_type": "execute_result",
          "data": {
            "text/plain": [
              "140199.0"
            ]
          },
          "metadata": {
            "tags": []
          },
          "execution_count": 633
        }
      ]
    },
    {
      "cell_type": "code",
      "metadata": {
        "id": "8EJsKg8g1jec"
      },
      "source": [
        "stone = data.filter(lambda x: x[9] == 'Stone').map(lambda x: (float(x[28])))"
      ],
      "execution_count": null,
      "outputs": []
    },
    {
      "cell_type": "code",
      "metadata": {
        "colab": {
          "base_uri": "https://localhost:8080/"
        },
        "id": "fJa1qwNT3V_l",
        "outputId": "aac4194c-0f12-4406-d0e9-db986bfb359f"
      },
      "source": [
        "mean_stone = stone.sum()/stone.count()\r\n",
        "mean_stone"
      ],
      "execution_count": null,
      "outputs": [
        {
          "output_type": "execute_result",
          "data": {
            "text/plain": [
              "263023.81304347824"
            ]
          },
          "metadata": {
            "tags": []
          },
          "execution_count": 635
        }
      ]
    },
    {
      "cell_type": "markdown",
      "metadata": {
        "id": "uYmPl93A3fHV"
      },
      "source": [
        "En media el precio de las casas de revestimiento o fachada de piedra es de es 123.000 dólares más, mientras que en en el caso de los dos ladrillos el precio es aparentemente el mismo."
      ]
    },
    {
      "cell_type": "markdown",
      "metadata": {
        "id": "vNGZaqVoaB1B"
      },
      "source": [
        "## ¿Cuánto son más caras las viviendas con 2 cocinas, con 2 o más plazas de garaje que las que tienen 1 cocina y 1 plaza de garaje? Comparar medias y cuartiles de ambos casos"
      ]
    },
    {
      "cell_type": "markdown",
      "metadata": {
        "id": "aLfqTBxwMmgr"
      },
      "source": [
        "Quitamos los NaNs para poder trabajar"
      ]
    },
    {
      "cell_type": "code",
      "metadata": {
        "id": "NO5vxg66KwO-"
      },
      "source": [
        "data=data.filter(lambda x: ((x[18] is not '') and (x[21] is not ''))) #no nas"
      ],
      "execution_count": null,
      "outputs": []
    },
    {
      "cell_type": "code",
      "metadata": {
        "colab": {
          "base_uri": "https://localhost:8080/"
        },
        "id": "SO6g4YTcLoJn",
        "outputId": "1cd2a95a-1e5d-42f2-aa03-76937684b9f0"
      },
      "source": [
        "data.take(1)"
      ],
      "execution_count": null,
      "outputs": [
        {
          "output_type": "execute_result",
          "data": {
            "text/plain": [
              "[['1',\n",
              "  'RL',\n",
              "  '141',\n",
              "  '31770',\n",
              "  'Lvl',\n",
              "  'Gtl',\n",
              "  '6',\n",
              "  '1960',\n",
              "  '1960',\n",
              "  'Stone',\n",
              "  'TA',\n",
              "  'Gd',\n",
              "  '1080',\n",
              "  'Fa',\n",
              "  'Y',\n",
              "  '1',\n",
              "  '0',\n",
              "  '3',\n",
              "  '1',\n",
              "  'TA',\n",
              "  '7',\n",
              "  '2',\n",
              "  '528',\n",
              "  'TA',\n",
              "  '0',\n",
              "  'Sp',\n",
              "  '5',\n",
              "  '2010',\n",
              "  '215000']]"
            ]
          },
          "metadata": {
            "tags": []
          },
          "execution_count": 637
        }
      ]
    },
    {
      "cell_type": "code",
      "metadata": {
        "colab": {
          "base_uri": "https://localhost:8080/"
        },
        "id": "J7WHspEOE5sL",
        "outputId": "1834f26b-1659-4562-faa0-f000c6db452a"
      },
      "source": [
        "dos_cocinas_garaje = data.filter(lambda x: int(x[18]) >= 2 and int(x[21]) == 2).map(lambda x: (float(x[28]))) #aplicamos el filtro a las columnas correspodneintes\r\n",
        "dos_cocinas_garaje= dos_cocinas_garaje.sum()/dos_cocinas_garaje.count()\r\n",
        "dos_cocinas_garaje"
      ],
      "execution_count": null,
      "outputs": [
        {
          "output_type": "execute_result",
          "data": {
            "text/plain": [
              "135299.8260869565"
            ]
          },
          "metadata": {
            "tags": []
          },
          "execution_count": 638
        }
      ]
    },
    {
      "cell_type": "code",
      "metadata": {
        "id": "PfjV8mknaz-Z"
      },
      "source": [
        "una = data.filter(lambda x:  int(x[18]) == 1 and  int(x[21])==1).map(lambda x: float(x[28]))\r\n",
        "\r\n",
        "\r\n",
        "una_cocinas_garaje=una.sum()/una.count() #media"
      ],
      "execution_count": null,
      "outputs": []
    },
    {
      "cell_type": "markdown",
      "metadata": {
        "id": "2GYg9IT7bYyS"
      },
      "source": [
        "Restamos los precios para ver si hay alguna diferencia\r\n"
      ]
    },
    {
      "cell_type": "code",
      "metadata": {
        "colab": {
          "base_uri": "https://localhost:8080/"
        },
        "id": "8fgdGIDgbXm-",
        "outputId": "6a6e6289-091b-43ff-adcb-d1b811af9ddb"
      },
      "source": [
        "  dos_cocinas_garaje-una_cocinas_garaje"
      ],
      "execution_count": null,
      "outputs": [
        {
          "output_type": "execute_result",
          "data": {
            "text/plain": [
              "7177.832709473063"
            ]
          },
          "metadata": {
            "tags": []
          },
          "execution_count": 640
        }
      ]
    },
    {
      "cell_type": "markdown",
      "metadata": {
        "id": "QVtH_yt1cQL_"
      },
      "source": [
        "En media las casas de dos  o mas cocinas y dos o mas garajes son 7177 dólares que las de 1 garaje y una cocina."
      ]
    },
    {
      "cell_type": "markdown",
      "metadata": {
        "id": "C58bJDDYaB1B"
      },
      "source": [
        "## (COMPLEMENTARIA) Estudiar la relación entre el precio y el número de Garajes. (Recomiendo segmentar precio por cuartiles y estudiar el número de casos coincidentes)"
      ]
    },
    {
      "cell_type": "markdown",
      "metadata": {
        "id": "mln-AHFXO6Pl"
      },
      "source": [
        "Con que no tengo mucho tiempo, lo que haré es comparar los precios en función del número de garajes, para ello lo que haré ver si es una relación de tipo ascendente, (como espero que sea) o descendente."
      ]
    },
    {
      "cell_type": "code",
      "metadata": {
        "colab": {
          "base_uri": "https://localhost:8080/"
        },
        "id": "0OYRvcYxOYdd",
        "outputId": "52082174-f194-4a81-a9f2-646c7b904075"
      },
      "source": [
        "garaje = data.filter(lambda x: int(x[21]) == 1).map(lambda x: (float(x[28]))) \r\n",
        "un_garaje_med= garaje.sum()/garaje.count()\r\n",
        "un_garaje_med"
      ],
      "execution_count": null,
      "outputs": [
        {
          "output_type": "execute_result",
          "data": {
            "text/plain": [
              "128011.6557591623"
            ]
          },
          "metadata": {
            "tags": []
          },
          "execution_count": 643
        }
      ]
    },
    {
      "cell_type": "code",
      "metadata": {
        "colab": {
          "base_uri": "https://localhost:8080/"
        },
        "id": "oVsBD5Py6JK7",
        "outputId": "f1033f33-334d-45dd-9e58-3e6e5d9e8571"
      },
      "source": [
        "dos_garaje = data.filter(lambda x: int(x[21]) == 2).map(lambda x: (float(x[28]))) \r\n",
        "dos_garaje_med= dos_garaje.sum()/dos_garaje.count()\r\n",
        "dos_garaje_med"
      ],
      "execution_count": null,
      "outputs": [
        {
          "output_type": "execute_result",
          "data": {
            "text/plain": [
              "181890.09318028358"
            ]
          },
          "metadata": {
            "tags": []
          },
          "execution_count": 644
        }
      ]
    },
    {
      "cell_type": "code",
      "metadata": {
        "colab": {
          "base_uri": "https://localhost:8080/"
        },
        "id": "EbwtdXQo7lBD",
        "outputId": "1a63f382-5bda-410d-d126-9a05cadf4242"
      },
      "source": [
        "tres_garaje = data.filter(lambda x: int(x[21]) == 3).map(lambda x: (float(x[28]))) \r\n",
        "tres_garaje_med= tres_garaje.sum()/tres_garaje.count()\r\n",
        "tres_garaje_med"
      ],
      "execution_count": null,
      "outputs": [
        {
          "output_type": "execute_result",
          "data": {
            "text/plain": [
              "311831.4888268156"
            ]
          },
          "metadata": {
            "tags": []
          },
          "execution_count": 645
        }
      ]
    },
    {
      "cell_type": "markdown",
      "metadata": {
        "id": "SjRDxP6_81Ty"
      },
      "source": [
        "Como se observa la existe una fuerte relación ascendente, y el precio se incrementa considerablemente, casi un doble de cuando tenemos de 2  a 3 garajes."
      ]
    },
    {
      "cell_type": "markdown",
      "metadata": {
        "id": "sie_nw7qaB1C"
      },
      "source": [
        "## (COMPLEMENTARIA) Las 10 viviendas con mejores servicios y mejor precio."
      ]
    },
    {
      "cell_type": "code",
      "metadata": {
        "id": "3b185hLfMlnu"
      },
      "source": [
        ""
      ],
      "execution_count": null,
      "outputs": []
    },
    {
      "cell_type": "markdown",
      "metadata": {
        "id": "ESAU3XESaB1C"
      },
      "source": [
        "### Pista:\n",
        "#### Calcula las variables: \n",
        "- Número de servicios excelentes\n",
        "- Número de servicios buenos\n",
        "...\n",
        "\n",
        "#### Tendréis que tener en cuenta también variables como número de baños Full Bath, cocinas Kitchen AbvGr o dormitorios Bedroom AbvGr. Generando por ejemplo (número de estas variables por encima de media)\n",
        "\n",
        "#### Finalmente precio de venta"
      ]
    }
  ]
}