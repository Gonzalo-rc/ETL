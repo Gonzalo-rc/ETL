{
 "cells": [
  {
   "cell_type": "markdown",
   "metadata": {},
   "source": [
    "# Generación de ficheros de metadatos y lectura de formatos en python\n",
    "\n",
    "#### Gonzalo Rodríguez Cañada \n",
    "\n",
    "#### ETL 2020-21"
   ]
  },
  {
   "cell_type": "markdown",
   "metadata": {},
   "source": [
    "##### Ficheros YAML"
   ]
  },
  {
   "cell_type": "markdown",
   "metadata": {},
   "source": [
    "YAML es un estándar de serialización de datos legibles para el ser humano que puede utilizarse en conjunto con todos los lenguajes de programación y se suele utilizar para escribir archivos de configuración."
   ]
  },
  {
   "cell_type": "markdown",
   "metadata": {},
   "source": [
    "*Características de los ficheros YAML*\n",
    "   \n",
    "   A diferencia de XML o JSON, **YAML** presenta los datos de una manera que hace fácil su lectura para un humano. La simple sintaxis no afecta a las capacidades del lenguaje. Cualquier dato o estructura añadida a un archivo XML o JSON también puede ser almacenada en YAML.\n",
    "\n",
    "Además del código legible por humanos, YAML también tiene otras características:\n",
    "\n",
    "    - Portabilidad de datos en varios idiomas\n",
    "    - Un modelo de datos consistente\n",
    "    - Procesamiento de una sola pasada\n",
    "    - Facilidad de aplicación y uso\n",
    "    \n",
    "\n",
    "*Para leer primero importamos yaml para que jupyter entienda que lo que estamos haciendo es introducir ficheros .yaml*\n"
   ]
  },
  {
   "cell_type": "code",
   "execution_count": 1,
   "metadata": {},
   "outputs": [],
   "source": [
    "import yaml\n",
    "\n",
    "#Definimos la función\n",
    "\n",
    "def read_yaml_file(filename):\n",
    "    with open(filename, 'r') as stream:\n",
    "        try:\n",
    "            print(yaml.safe_load(stream))\n",
    "        except yaml.YAMLError as exc:\n",
    "            print(exc)"
   ]
  },
  {
   "cell_type": "markdown",
   "metadata": {},
   "source": [
    "Genero un fichero"
   ]
  },
  {
   "cell_type": "code",
   "execution_count": 2,
   "metadata": {},
   "outputs": [],
   "source": [
    "example =  [{'name': 'Juanito', 'occupation': 'Chef'},\n",
    "         {'name': 'Lucía', 'occupation': 'Peluquera'}]"
   ]
  },
  {
   "cell_type": "code",
   "execution_count": 3,
   "metadata": {},
   "outputs": [],
   "source": [
    "\n",
    "\n",
    "with open('example.yaml', 'w') as f:\n",
    "    \n",
    "    data = yaml.dump(example, f)\n",
    "\n",
    "\n"
   ]
  },
  {
   "cell_type": "markdown",
   "metadata": {},
   "source": [
    "Leemos el fichero"
   ]
  },
  {
   "cell_type": "code",
   "execution_count": 4,
   "metadata": {},
   "outputs": [
    {
     "name": "stdout",
     "output_type": "stream",
     "text": [
      "[{'name': 'Juanito', 'occupation': 'Chef'}, {'name': 'Lucía', 'occupation': 'Peluquera'}]\n"
     ]
    }
   ],
   "source": [
    "\n",
    "\n",
    "read_yaml_file(\"example.yaml\")\n",
    "\n"
   ]
  },
  {
   "cell_type": "markdown",
   "metadata": {},
   "source": [
    "##### Ficheros  JSON"
   ]
  },
  {
   "cell_type": "markdown",
   "metadata": {},
   "source": [
    "**JSON**(JavaScript Object Notation) es un formato ligero de intercambio de datos. Es fácil de leer y escribir para los humanos. Es fácil para las máquinas de analizar y generar. Está basado en un subconjunto del Lenguaje de Programación . JSON es un formato de texto que es completamente independiente del lenguaje, pero utiliza convenciones que son familiares para los programadores de la familia de lenguajes C, incluyendo C, C++, C#, Java, JavaScript, Perl, Python, y muchos otros. Estas propiedades hacen de JSON un lenguaje ideal para el intercambio de datos.\n",
    "\n",
    "JSON está construido sobre dos estructuras:\n",
    "\n",
    "    Una colección de pares nombre/valor. En varios idiomas, esto se realiza como un objeto, registro, estructura, diccionario, tabla hash, lista clave, o conjunto asociativo.\n",
    "    Una lista ordenada de valores. En la mayoría de los idiomas, esto se realiza como una matriz, vector, lista o secuencia.\n",
    "\n",
    "Se trata de estructuras de datos universales. Prácticamente todos los lenguajes de programación modernos las soportan de una forma u otra. Tiene sentido que un formato de datos que es intercambiable con los lenguajes de programación también se base en estas estructuras.\n",
    "\n",
    "\n",
    "*Importamos JSON para que interprete que introducimos fichero .json*"
   ]
  },
  {
   "cell_type": "code",
   "execution_count": 5,
   "metadata": {},
   "outputs": [],
   "source": [
    "import json"
   ]
  },
  {
   "cell_type": "markdown",
   "metadata": {},
   "source": [
    "Para leer "
   ]
  },
  {
   "cell_type": "code",
   "execution_count": 6,
   "metadata": {},
   "outputs": [
    {
     "data": {
      "text/plain": [
       "{'glossary': {'title': 'example glossary',\n",
       "  'GlossDiv': {'title': 'S',\n",
       "   'GlossList': {'GlossEntry': {'ID': 'SGML',\n",
       "     'SortAs': 'SGML',\n",
       "     'GlossTerm': 'Standard Generalized Markup Language',\n",
       "     'Acronym': 'SGML',\n",
       "     'Abbrev': 'ISO 8879:1986',\n",
       "     'GlossDef': {'para': 'A meta-markup language, used to create markup languages such as DocBook.',\n",
       "      'GlossSeeAlso': ['GML', 'XML']},\n",
       "     'GlossSee': 'markup'}}}}}"
      ]
     },
     "execution_count": 6,
     "metadata": {},
     "output_type": "execute_result"
    }
   ],
   "source": [
    "l = open('x.json', encoding=\"utf8\")\n",
    "\n",
    "data = json.load(l)\n",
    "\n",
    "data"
   ]
  },
  {
   "cell_type": "markdown",
   "metadata": {},
   "source": [
    "Para crear"
   ]
  },
  {
   "cell_type": "code",
   "execution_count": 7,
   "metadata": {},
   "outputs": [],
   "source": [
    "data_json = {}\n",
    "\n",
    "data_json['Alumnos'] = []\n",
    "\n",
    "data_json['Alumnos'].append({\n",
    "    'Nombre': 'Fran',\n",
    "    'Apellidos': 'Rguez',\n",
    "    'Edad': 17})\n",
    "\n",
    "data_json['Alumnos'].append({\n",
    "    'Nombre': 'Tánia',\n",
    "    'Apellidos': 'Vilella',\n",
    "    'Edad': 13})\n",
    "\n",
    "data_json['Alumnos'].append({\n",
    "    'Nombre': 'Marcos',\n",
    "    'Apellidos': 'Miranda',\n",
    "    'Edad': 12})\n",
    "\n",
    "with open('data.json', 'w', encoding = 'utf8') as file:\n",
    "    json.dump(data_json, file, indent=4)"
   ]
  },
  {
   "cell_type": "code",
   "execution_count": 8,
   "metadata": {},
   "outputs": [
    {
     "data": {
      "text/plain": [
       "{'Alumnos': [{'Nombre': 'Fran', 'Apellidos': 'Rguez', 'Edad': 17},\n",
       "  {'Nombre': 'Tánia', 'Apellidos': 'Vilella', 'Edad': 13},\n",
       "  {'Nombre': 'Marcos', 'Apellidos': 'Miranda', 'Edad': 12}]}"
      ]
     },
     "execution_count": 8,
     "metadata": {},
     "output_type": "execute_result"
    }
   ],
   "source": [
    "data_json"
   ]
  }
 ],
 "metadata": {
  "kernelspec": {
   "display_name": "Python 3",
   "language": "python",
   "name": "python3"
  },
  "language_info": {
   "codemirror_mode": {
    "name": "ipython",
    "version": 3
   },
   "file_extension": ".py",
   "mimetype": "text/x-python",
   "name": "python",
   "nbconvert_exporter": "python",
   "pygments_lexer": "ipython3",
   "version": "3.8.3"
  }
 },
 "nbformat": 4,
 "nbformat_minor": 4
}
