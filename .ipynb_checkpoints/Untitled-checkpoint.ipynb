{
 "cells": [
  {
   "cell_type": "markdown",
   "metadata": {},
   "source": [
    "Para el caso de ficheros yaml, debemos importar el paquete __yaml__, que es el que tenemos que usar para que python entienda que le estamos introduciendo son formato _.yaml_."
   ]
  },
  {
   "cell_type": "code",
   "execution_count": 1,
   "metadata": {},
   "outputs": [],
   "source": [
    "import yaml"
   ]
  },
  {
   "cell_type": "code",
   "execution_count": 7,
   "metadata": {},
   "outputs": [],
   "source": [
    "def read_yaml_file(prueba2):\n",
    "    with open(prueba2, 'r', encoding = \"utf8\") as stream:\n",
    "        try:\n",
    "            print(yaml.safe_load(stream))\n",
    "        except yaml.YAMLError as exc:\n",
    "            print(exc)"
   ]
  },
  {
   "cell_type": "code",
   "execution_count": 8,
   "metadata": {},
   "outputs": [
    {
     "name": "stdout",
     "output_type": "stream",
     "text": [
      "[{'nombre': 'Marcos', 'appelido': 'López', 'ocupacion': 'Jardinero'}, {'nombre': 'Paula', 'apellido': 'Berenguer', 'ocupacion': 'Peluquera'}, {'nombre': 'Pedro', 'apellido': 'Piqueras', 'ocupacion': 'presentador'}]\n"
     ]
    }
   ],
   "source": [
    "read_yaml_file(\"prueba2.yaml\")"
   ]
  }
 ],
 "metadata": {
  "kernelspec": {
   "display_name": "Python 3",
   "language": "python",
   "name": "python3"
  },
  "language_info": {
   "codemirror_mode": {
    "name": "ipython",
    "version": 3
   },
   "file_extension": ".py",
   "mimetype": "text/x-python",
   "name": "python",
   "nbconvert_exporter": "python",
   "pygments_lexer": "ipython3",
   "version": "3.8.3"
  }
 },
 "nbformat": 4,
 "nbformat_minor": 2
}
