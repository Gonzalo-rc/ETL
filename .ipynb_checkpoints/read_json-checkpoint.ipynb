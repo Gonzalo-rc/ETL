{
 "cells": [
  {
   "cell_type": "markdown",
   "metadata": {},
   "source": [
    "JSON es un formato de texto sencillo para el intercambio de datos. Se trata de un subconjunto de la notación literal de objetos de JavaScript. Permite incluir:\n",
    "\n",
    "+ Números: Se permiten números negativos y opcionalmente pueden contener parte fraccional separada por puntos. Ejemplo: 123.456\n",
    "+ Cadenas: Representan secuencias de cero o más caracteres. Se ponen entre doble comilla y se permiten cadenas de escape. Ejemplo: \"Hola\"\n",
    "+ Booleanos: Representan valores booleanos y pueden tener dos valores: true y false\n",
    "+ null: Representan el valor nulo.\n",
    "+ Array: Representa una lista ordenada de cero o más valores los cuales pueden ser de cualquier tipo. Los valores se separan por comas y el vector se mete entre corchetes. Ejemplo [\"juan\",\"pedro\",\"jacinto\"]\n",
    "+ Objetos: Son colecciones no ordenadas de pares de la forma <nombre>:<valor> separados por comas y puestas entre llaves."
   ]
  },
  {
   "cell_type": "markdown",
   "metadata": {},
   "source": [
    "Primero tenemos que cargar la librería __json__, que es la que nos permite abrir ficheros de ese mismo tipo. "
   ]
  },
  {
   "cell_type": "code",
   "execution_count": 10,
   "metadata": {},
   "outputs": [],
   "source": [
    "import json"
   ]
  },
  {
   "cell_type": "markdown",
   "metadata": {},
   "source": [
    "No tengo ningún archivo .json, pero buscando en internet la forma que tiene, crearé unos datos de tipo .json y lo guardaré como tal para después abrirlo con la función de la librería __json__. \n",
    "\n",
    "Este dataset será: _prueba.json_. "
   ]
  },
  {
   "cell_type": "code",
   "execution_count": 13,
   "metadata": {},
   "outputs": [
    {
     "data": {
      "text/plain": [
       "{'data': [{'Codigo_Postal': 28001,\n",
       "   'Nombre_Calle': 'Calle General Mola',\n",
       "   'Portal': 62,\n",
       "   'Piso': 8,\n",
       "   'sexo': 'Hombre'},\n",
       "  {'Codigo_Postal': 28003,\n",
       "   'Nombre_Calle': 'Calle Los Vascos',\n",
       "   'Portal': 2,\n",
       "   'Piso': 4,\n",
       "   'sexo': 'Mujer'},\n",
       "  {'Codigo_Postal': 28003,\n",
       "   'Nombre_Calle': 'Calle Beatriz de Boadilla',\n",
       "   'Portal': 13,\n",
       "   'Piso': 5,\n",
       "   'sexo': 'Hombre'}]}"
      ]
     },
     "execution_count": 13,
     "metadata": {},
     "output_type": "execute_result"
    }
   ],
   "source": [
    "l = open('prueba.json', encoding=\"utf8\")\n",
    "\n",
    "data = json.load(l)\n",
    "\n",
    "data"
   ]
  }
 ],
 "metadata": {
  "kernelspec": {
   "display_name": "Python 3",
   "language": "python",
   "name": "python3"
  },
  "language_info": {
   "codemirror_mode": {
    "name": "ipython",
    "version": 3
   },
   "file_extension": ".py",
   "mimetype": "text/x-python",
   "name": "python",
   "nbconvert_exporter": "python",
   "pygments_lexer": "ipython3",
   "version": "3.8.3"
  }
 },
 "nbformat": 4,
 "nbformat_minor": 2
}
